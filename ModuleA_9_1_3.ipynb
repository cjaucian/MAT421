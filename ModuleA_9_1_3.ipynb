{
  "nbformat": 4,
  "nbformat_minor": 0,
  "metadata": {
    "colab": {
      "provenance": [],
      "authorship_tag": "ABX9TyO0XiFmzQXhT/Hd+OyNlPbB",
      "include_colab_link": true
    },
    "kernelspec": {
      "name": "python3",
      "display_name": "Python 3"
    },
    "language_info": {
      "name": "python"
    }
  },
  "cells": [
    {
      "cell_type": "markdown",
      "metadata": {
        "id": "view-in-github",
        "colab_type": "text"
      },
      "source": [
        "<a href=\"https://colab.research.google.com/github/cjaucian/MAT421/blob/main/ModuleA_9_1_3.ipynb\" target=\"_parent\"><img src=\"https://colab.research.google.com/assets/colab-badge.svg\" alt=\"Open In Colab\"/></a>"
      ]
    },
    {
      "cell_type": "code",
      "execution_count": null,
      "metadata": {
        "id": "WS_AQN4RBEF7"
      },
      "outputs": [],
      "source": [
        "import numpy as np\n",
        "import matplotlib.pyplot as plt\n"
      ]
    },
    {
      "cell_type": "markdown",
      "source": [
        "**9.1 Base-N and Binary**\n",
        "\n",
        "Numbers can be expressed in different base systems, we commonly use base-10 which indicates that each individual number is a factor or 10^n. For example:\n",
        "101(base10) = 1*10^2 + 0*10^1 + 1*10^0\n",
        "\n",
        "We can convert any number in base-10 to another base. For example, if we wanted to write 12 in base 3, we are looking to use only 0, 1, 2.\n",
        "12(base 10) = 9 + 3 + 0 = 1*3^2 + 1*3^1 + 0*3^0 = 110(base 3)\n",
        "\n",
        "Converting numbers to binary, which is most commonly used in computers means that we use only 0, and 1. For example:\n",
        "31(base 10) = 16 + 8 + 4 + 2 + 1 = 1*2^4 + 1*2^3 + 1*2^2 + 1*2^1 + 1*2^0 = 11111(base 2)\n",
        "\n",
        "Converting numbers from base-10 to binary is time consuming and tedious. But we can use Python to make the process easier. We can even computer the products, sums, differences and quotients of binary numbers in Python. Similarly to the way we would compute them in base-10.\n",
        "\n",
        "Below are examples of converting numbers in Base-N and Binary, as well as operations in both representations."
      ],
      "metadata": {
        "id": "6v1_51GkFIAS"
      }
    },
    {
      "cell_type": "markdown",
      "source": [
        "**Example 1:** Converting numbers in base-10 to binary."
      ],
      "metadata": {
        "id": "cCnwI204F0Hh"
      }
    },
    {
      "cell_type": "code",
      "source": [
        "print(1211,'=',bin(1211),'\\n',12,'=',bin(12),'\\n',552,'=',bin(552))\n"
      ],
      "metadata": {
        "colab": {
          "base_uri": "https://localhost:8080/"
        },
        "id": "mtKi87ZBEyHR",
        "outputId": "80c0d683-0734-4370-ea6f-4401cff2f561"
      },
      "execution_count": null,
      "outputs": [
        {
          "output_type": "stream",
          "name": "stdout",
          "text": [
            "1211 = 0b10010111011 \n",
            " 12 = 0b1100 \n",
            " 552 = 0b1000101000\n"
          ]
        }
      ]
    },
    {
      "cell_type": "markdown",
      "source": [
        "1211(base 10) is 10010111011 in binary.\n",
        " 12(base 10) is 1100 in binary.\n",
        " 552(base 10) is 1000101000 in binary.\n",
        "\n",
        "\n",
        "\n",
        " Binary numbers can be used in mathematical operations, similar to base-10 numbers."
      ],
      "metadata": {
        "id": "FG9WzdVUGkss"
      }
    },
    {
      "cell_type": "markdown",
      "source": [
        " **Example 2:** Operations with Binary Numbers"
      ],
      "metadata": {
        "id": "dMK1NQYNRK7m"
      }
    },
    {
      "cell_type": "code",
      "source": [
        "x=0b10010111011\n",
        "y=0b1100\n",
        "z=0b1000101000\n",
        "\n",
        "print('0b10010111011 * 0b1100 =',x*y)\n",
        "print('0b1100 / 0b1000101000 =',y/z)\n",
        "print('0b1100 + 0b1000101000 =',y+z)\n",
        "print('0b10010111011 - 0b1000101000 =',x-z)"
      ],
      "metadata": {
        "colab": {
          "base_uri": "https://localhost:8080/"
        },
        "id": "d9UdEByvG3zQ",
        "outputId": "b5d70268-48bf-4334-a32e-55389f2243b3"
      },
      "execution_count": null,
      "outputs": [
        {
          "output_type": "stream",
          "name": "stdout",
          "text": [
            "0b10010111011 * 0b1100 = 14532\n",
            "0b1100 / 0b1000101000 = 0.021739130434782608\n",
            "0b1100 + 0b1000101000 = 564\n",
            "0b10010111011 - 0b1000101000 = 659\n"
          ]
        }
      ]
    },
    {
      "cell_type": "markdown",
      "source": [
        "0b10010111011 * 0b1100 = 14532\n",
        "\n",
        "0b1100 / 0b1000101000 = 0.021739130434782608\n",
        "\n",
        "0b1100 + 0b1000101000 = 564\n",
        "\n",
        "0b10010111011 - 0b1000101000 = 659"
      ],
      "metadata": {
        "id": "dclcVCcjIiOf"
      }
    },
    {
      "cell_type": "markdown",
      "source": [
        "**9.2 Floating Point Numbers**"
      ],
      "metadata": {
        "id": "BsbbTDBxRPtE"
      }
    },
    {
      "cell_type": "markdown",
      "source": [
        "Binary representations do not give sufficient accuracy in engineering calculations. For this reason, we need to use a new number representation to give greater accuracy but remain within 64-bits. This representation is called floating point numbers.\n",
        "\n",
        "Unlike binary numbers which represent each coefficient as a power of 2, floats use three different parts. These three parts are: sign indicator, exponent, and fraction. The sign indicator, s, show whether a number is positive or negative. The exponent, e, for a base of 2. Lastly, the fraction, f, is the coefficient of the exponent.\n",
        "\n",
        "n = (-1)^2 * 2^(e-1023)*(1+f)"
      ],
      "metadata": {
        "id": "3NO70tpqRVOM"
      }
    },
    {
      "cell_type": "code",
      "source": [
        "import sys\n",
        "sys.float_info"
      ],
      "metadata": {
        "colab": {
          "base_uri": "https://localhost:8080/"
        },
        "id": "ptjeB2_w7XPc",
        "outputId": "c3bdc8d8-9419-4131-8d74-2e0186f8d9d0"
      },
      "execution_count": 1,
      "outputs": [
        {
          "output_type": "execute_result",
          "data": {
            "text/plain": [
              "sys.float_info(max=1.7976931348623157e+308, max_exp=1024, max_10_exp=308, min=2.2250738585072014e-308, min_exp=-1021, min_10_exp=-307, dig=15, mant_dig=53, epsilon=2.220446049250313e-16, radix=2, rounds=1)"
            ]
          },
          "metadata": {},
          "execution_count": 1
        }
      ]
    },
    {
      "cell_type": "markdown",
      "source": [
        "sys.float_info(max=1.7976931348623157e+308, max_exp=1024, max_10_exp=308, min=2.2250738585072014e-308, min_exp=-1021, min_10_exp=-307, dig=15, mant_dig=53, epsilon=2.220446049250313e-16, radix=2, rounds=1)"
      ],
      "metadata": {
        "id": "KXShU-vH7gn8"
      }
    },
    {
      "cell_type": "markdown",
      "source": [
        "The spacing function in Python calculates the distance between one number to the next, known as the gap. The fraction in the float is being multiplied by 2^(e-1023), which creates a larger and larger gap as the number grows larger."
      ],
      "metadata": {
        "id": "JrGhveVo7ir0"
      }
    },
    {
      "cell_type": "markdown",
      "source": [
        "**Example** Using the spacing function we will calculate the gap at 1e9."
      ],
      "metadata": {
        "id": "VKwpvY5v9Q5d"
      }
    },
    {
      "cell_type": "code",
      "source": [
        "import numpy as np\n",
        "np.spacing(1e9)"
      ],
      "metadata": {
        "colab": {
          "base_uri": "https://localhost:8080/"
        },
        "id": "h9P1cYha9Qcm",
        "outputId": "efed8e1a-2545-44ea-86ff-40e32e86ca0a"
      },
      "execution_count": 3,
      "outputs": [
        {
          "output_type": "execute_result",
          "data": {
            "text/plain": [
              "1.1920928955078125e-07"
            ]
          },
          "metadata": {},
          "execution_count": 3
        }
      ]
    },
    {
      "cell_type": "markdown",
      "source": [
        "1.1920928955078125e-07\n",
        "\n",
        "If we add a number that is less than one-half the size of the gap at 1e9, Python will still show the same value."
      ],
      "metadata": {
        "id": "_dtWZfyn9-FO"
      }
    },
    {
      "cell_type": "code",
      "source": [
        "import numpy as np\n",
        "1e9 == (1e9 + np.spacing(1e9)/3)"
      ],
      "metadata": {
        "colab": {
          "base_uri": "https://localhost:8080/"
        },
        "id": "B1Hilt4U-bVR",
        "outputId": "f53df674-b68a-4dc0-90d1-3b17e014dc86"
      },
      "execution_count": 5,
      "outputs": [
        {
          "output_type": "execute_result",
          "data": {
            "text/plain": [
              "True"
            ]
          },
          "metadata": {},
          "execution_count": 5
        }
      ]
    },
    {
      "cell_type": "markdown",
      "source": [
        "True"
      ],
      "metadata": {
        "id": "mFBRpzVO-y4E"
      }
    },
    {
      "cell_type": "markdown",
      "source": [
        "There are limits to the values that can be represented by the floating point numbers. A number that exceeds the maximum float value will show as infinity, and is considered an overflow. A number that is smaller than the smallest subnormal number will be assigned 0, and is considered underflow."
      ],
      "metadata": {
        "id": "187vjIKr-S4c"
      }
    },
    {
      "cell_type": "code",
      "source": [
        "sys.float_info.max"
      ],
      "metadata": {
        "colab": {
          "base_uri": "https://localhost:8080/"
        },
        "id": "r9jCr5ba_7Z2",
        "outputId": "0c447308-9b43-4b40-91b9-3f505c9330de"
      },
      "execution_count": 6,
      "outputs": [
        {
          "output_type": "execute_result",
          "data": {
            "text/plain": [
              "1.7976931348623157e+308"
            ]
          },
          "metadata": {},
          "execution_count": 6
        }
      ]
    },
    {
      "cell_type": "markdown",
      "source": [
        "1.7976931348623157e+308"
      ],
      "metadata": {
        "id": "RT0gEVn6ACvB"
      }
    },
    {
      "cell_type": "code",
      "source": [
        "sys.float_info.min"
      ],
      "metadata": {
        "colab": {
          "base_uri": "https://localhost:8080/"
        },
        "id": "Rg00PPYKADs7",
        "outputId": "cc02f504-e6e2-44e0-dacd-6e454a5831d5"
      },
      "execution_count": 7,
      "outputs": [
        {
          "output_type": "execute_result",
          "data": {
            "text/plain": [
              "2.2250738585072014e-308"
            ]
          },
          "metadata": {},
          "execution_count": 7
        }
      ]
    },
    {
      "cell_type": "markdown",
      "source": [
        "2.2250738585072014e-308"
      ],
      "metadata": {
        "id": "9g2uliMoAKJP"
      }
    },
    {
      "cell_type": "markdown",
      "source": [
        "**Example** Show that a subnormal number is represented by 0.0."
      ],
      "metadata": {
        "id": "_xA7FFyGARK8"
      }
    },
    {
      "cell_type": "code",
      "source": [
        "2**(-2000)"
      ],
      "metadata": {
        "colab": {
          "base_uri": "https://localhost:8080/"
        },
        "id": "QM3JmLIQAYGJ",
        "outputId": "fcfdfa68-0b92-4324-c28d-202fe84c8481"
      },
      "execution_count": 8,
      "outputs": [
        {
          "output_type": "execute_result",
          "data": {
            "text/plain": [
              "0.0"
            ]
          },
          "metadata": {},
          "execution_count": 8
        }
      ]
    },
    {
      "cell_type": "markdown",
      "source": [
        "0.0\n",
        "\n",
        "**Example** Show that a subnormal number cannot be distinguished from 0.0."
      ],
      "metadata": {
        "id": "9BlFIMgjAdb4"
      }
    },
    {
      "cell_type": "code",
      "source": [
        "2**(-2000) == 0"
      ],
      "metadata": {
        "colab": {
          "base_uri": "https://localhost:8080/"
        },
        "id": "0yw0buR8Anxe",
        "outputId": "98cbde24-d0bc-4e3d-bab7-b994a4acac97"
      },
      "execution_count": 9,
      "outputs": [
        {
          "output_type": "execute_result",
          "data": {
            "text/plain": [
              "True"
            ]
          },
          "metadata": {},
          "execution_count": 9
        }
      ]
    },
    {
      "cell_type": "markdown",
      "source": [
        "**9.3 Round-off Errors**"
      ],
      "metadata": {
        "id": "10jKsqArBMd9"
      }
    },
    {
      "cell_type": "markdown",
      "source": [
        "In section 9.2, it was stated that computers represent floating point numbers as base 2 fractions. This representation creates errors because the number is not recorded with perfect precision. The difference between the approximation of a number and the correct value of a number is called round-off error.\n",
        "\n",
        "Round-off errors occur when we represent infinite floating point numbers, like pi or 1/9. Since we have to use a finite number of digits, we end up with a value that could be more or less than the correct value.\n",
        "\n",
        "In Python, we will get a different calculation than what we expect in arithmetic computations. If we take 3.9 - 3.8, we would expect to get 0.1."
      ],
      "metadata": {
        "id": "A_yxNaBuBTvB"
      }
    },
    {
      "cell_type": "code",
      "source": [
        "3.9 - 3.8 == 0.1"
      ],
      "metadata": {
        "colab": {
          "base_uri": "https://localhost:8080/"
        },
        "id": "fG7vLjwuCl1_",
        "outputId": "78d941b5-4038-47a2-ca5d-ab9d92667d96"
      },
      "execution_count": 11,
      "outputs": [
        {
          "output_type": "execute_result",
          "data": {
            "text/plain": [
              "False"
            ]
          },
          "metadata": {},
          "execution_count": 11
        }
      ]
    },
    {
      "cell_type": "markdown",
      "source": [
        "False"
      ],
      "metadata": {
        "id": "tjS1nnrpCs4t"
      }
    },
    {
      "cell_type": "markdown",
      "source": [
        "So if 3.9 - 3.8 does not equal 0.1, what does it equal?"
      ],
      "metadata": {
        "id": "ma-sD8ooCvOB"
      }
    },
    {
      "cell_type": "code",
      "source": [
        "3.9 - 3.8"
      ],
      "metadata": {
        "colab": {
          "base_uri": "https://localhost:8080/"
        },
        "id": "UMoWMkQbC1X_",
        "outputId": "91ed7424-f591-4e0c-d8a7-154e3cd4b71f"
      },
      "execution_count": 12,
      "outputs": [
        {
          "output_type": "execute_result",
          "data": {
            "text/plain": [
              "0.10000000000000009"
            ]
          },
          "metadata": {},
          "execution_count": 12
        }
      ]
    },
    {
      "cell_type": "markdown",
      "source": [
        "0.10000000000000009"
      ],
      "metadata": {
        "id": "Y-BYW_DkC5_W"
      }
    },
    {
      "cell_type": "markdown",
      "source": [
        "**Example** Show that 0.4 + 0.3 + 0.2 does not equal 0.9."
      ],
      "metadata": {
        "id": "loX4BStUDA2f"
      }
    },
    {
      "cell_type": "code",
      "source": [
        "0.4 + 0.3 + 0.2 == 0.9"
      ],
      "metadata": {
        "colab": {
          "base_uri": "https://localhost:8080/"
        },
        "id": "gJR3uJ5SDLO7",
        "outputId": "001f198a-14e8-4afb-b43c-80ba8231030a"
      },
      "execution_count": 16,
      "outputs": [
        {
          "output_type": "execute_result",
          "data": {
            "text/plain": [
              "False"
            ]
          },
          "metadata": {},
          "execution_count": 16
        }
      ]
    },
    {
      "cell_type": "markdown",
      "source": [
        "False"
      ],
      "metadata": {
        "id": "aFrRKyANDvNE"
      }
    },
    {
      "cell_type": "markdown",
      "source": [
        "We can use the round function to get inexact values to be comparable to another."
      ],
      "metadata": {
        "id": "osONpgVFDzbu"
      }
    },
    {
      "cell_type": "markdown",
      "source": [
        "**Example** Using the round function to get values to compare."
      ],
      "metadata": {
        "id": "cGdVchyrEF_K"
      }
    },
    {
      "cell_type": "code",
      "source": [
        "round(0.4 + 0.3 + 0.2, 5) == round(0.9, 5)"
      ],
      "metadata": {
        "colab": {
          "base_uri": "https://localhost:8080/"
        },
        "id": "b_SRyMw8ECgS",
        "outputId": "ef3ccf0d-4722-4c6e-c46d-131d8e6bec2f"
      },
      "execution_count": 17,
      "outputs": [
        {
          "output_type": "execute_result",
          "data": {
            "text/plain": [
              "True"
            ]
          },
          "metadata": {},
          "execution_count": 17
        }
      ]
    },
    {
      "cell_type": "markdown",
      "source": [
        "True"
      ],
      "metadata": {
        "id": "r2VwRCYqEXgL"
      }
    },
    {
      "cell_type": "markdown",
      "source": [
        "In arithmetic, we can accumulate round-off errors since we round each calculation to a finite number of values.\n",
        "\n",
        "**Example** Computation value only taken once."
      ],
      "metadata": {
        "id": "4LU0Nz_tFBx7"
      }
    },
    {
      "cell_type": "code",
      "source": [
        "1 + 1/9 - 1/9"
      ],
      "metadata": {
        "colab": {
          "base_uri": "https://localhost:8080/"
        },
        "id": "Xs1W_NEdFW69",
        "outputId": "6d3c60cc-b4af-4078-88a8-ca8099170877"
      },
      "execution_count": 26,
      "outputs": [
        {
          "output_type": "execute_result",
          "data": {
            "text/plain": [
              "1.0"
            ]
          },
          "metadata": {},
          "execution_count": 26
        }
      ]
    },
    {
      "cell_type": "markdown",
      "source": [
        "If we complete an addition and subtraction problem more than once, 100 times, or even 1000 times. The round-off error will accumulate and grow larger."
      ],
      "metadata": {
        "id": "OvPX18yCMe62"
      }
    },
    {
      "cell_type": "code",
      "source": [
        "def add_and_subtract(iterations):\n",
        "  result = 1\n",
        "\n",
        "  for i in range(iterations):\n",
        "    result += 1/9\n",
        "\n",
        "  for i in range(iterations):\n",
        "    result -= 1/9\n",
        "  return result\n",
        "\n",
        "\n",
        "print(add_and_subtract(100))\n",
        "print(add_and_subtract(1000))\n",
        "print(add_and_subtract(10000))"
      ],
      "metadata": {
        "colab": {
          "base_uri": "https://localhost:8080/"
        },
        "id": "53f6IdsqM1c7",
        "outputId": "7e84abcb-47ac-4892-ddea-e9f9bf359334"
      },
      "execution_count": 29,
      "outputs": [
        {
          "output_type": "stream",
          "name": "stdout",
          "text": [
            "1.0000000000000004\n",
            "1.0000000000000022\n",
            "1.0000000000000981\n"
          ]
        }
      ]
    },
    {
      "cell_type": "markdown",
      "source": [
        "1.0000000000000004\n",
        "\n",
        "1.0000000000000022\n",
        "\n",
        "1.0000000000000981"
      ],
      "metadata": {
        "id": "r6D9FdX8Om-r"
      }
    }
  ]
}